{
 "cells": [
  {
   "cell_type": "code",
   "execution_count": 5,
   "metadata": {},
   "outputs": [],
   "source": [
    "from bs4 import BeautifulSoup\n",
    "\n",
    "with open('../data/brief/raw/messages.html', encoding='utf-8') as fp:\n",
    "    soup = BeautifulSoup(fp, 'html.parser')"
   ]
  },
  {
   "cell_type": "code",
   "execution_count": 7,
   "metadata": {},
   "outputs": [],
   "source": [
    "with open('../data/brief/data.txt', encoding='utf-8', mode='a') as data_file:\n",
    "    for text in soup.find_all('div', {'class': 'text'}):\n",
    "        data_file.write(text.text)"
   ]
  },
  {
   "cell_type": "code",
   "execution_count": 21,
   "metadata": {},
   "outputs": [],
   "source": [
    "def parse_tg_dump(files, data):\n",
    "    for filename in files:\n",
    "        with open(filename, encoding='utf-8') as fp:\n",
    "            soup = BeautifulSoup(fp, 'html.parser')\n",
    "            with open(data, encoding='utf-8', mode='a') as data_file:\n",
    "                for text in soup.find_all('div', {'class': 'text'}):\n",
    "                    string = text.text.strip()\n",
    "                    if (string == ''):\n",
    "                        continue\n",
    "                    data_file.write(string + '\\n')"
   ]
  },
  {
   "cell_type": "code",
   "execution_count": 22,
   "metadata": {},
   "outputs": [],
   "source": [
    "parse_tg_dump([\n",
    "    '../data/brief/raw/messages.html',\n",
    "    '../data/brief/raw/messages2.html',\n",
    "    '../data/brief/raw/messages3.html'], '../data/brief/data.txt'\n",
    ")\n",
    "\n"
   ]
  }
 ],
 "metadata": {
  "kernelspec": {
   "display_name": ".venv",
   "language": "python",
   "name": "python3"
  },
  "language_info": {
   "codemirror_mode": {
    "name": "ipython",
    "version": 3
   },
   "file_extension": ".py",
   "mimetype": "text/x-python",
   "name": "python",
   "nbconvert_exporter": "python",
   "pygments_lexer": "ipython3",
   "version": "3.10.11"
  }
 },
 "nbformat": 4,
 "nbformat_minor": 2
}
