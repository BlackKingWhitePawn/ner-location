{
 "cells": [
  {
   "cell_type": "code",
   "execution_count": 1,
   "metadata": {},
   "outputs": [],
   "source": [
    "import pandas as pd\n",
    "import numpy as np\n",
    "import seaborn as sns\n",
    "import matplotlib.pyplot as plt\n",
    "%matplotlib inline"
   ]
  },
  {
   "cell_type": "code",
   "execution_count": 2,
   "metadata": {},
   "outputs": [
    {
     "data": {
      "text/plain": [
       "'[{\"start\":33,\"end\":39,\"text\":\"Москве\",\"labels\":[\"LOC_CITY\"]},{\"start\":53,\"end\":76,\"text\":\"Ломоносовский проспект»\",\"labels\":[\"LOC\"]}]'"
      ]
     },
     "execution_count": 2,
     "metadata": {},
     "output_type": "execute_result"
    }
   ],
   "source": [
    "df = pd.read_csv('./data/annotated/project-1-at-2024-05-21-15-37-bb0b128d.csv')\n",
    "df['label'].iloc[0]"
   ]
  },
  {
   "cell_type": "code",
   "execution_count": 11,
   "metadata": {},
   "outputs": [
    {
     "data": {
      "text/html": [
       "<div>\n",
       "<style scoped>\n",
       "    .dataframe tbody tr th:only-of-type {\n",
       "        vertical-align: middle;\n",
       "    }\n",
       "\n",
       "    .dataframe tbody tr th {\n",
       "        vertical-align: top;\n",
       "    }\n",
       "\n",
       "    .dataframe thead th {\n",
       "        text-align: right;\n",
       "    }\n",
       "</style>\n",
       "<table border=\"1\" class=\"dataframe\">\n",
       "  <thead>\n",
       "    <tr style=\"text-align: right;\">\n",
       "      <th></th>\n",
       "      <th>annotation_id</th>\n",
       "      <th>annotator</th>\n",
       "      <th>id</th>\n",
       "      <th>lead_time</th>\n",
       "    </tr>\n",
       "  </thead>\n",
       "  <tbody>\n",
       "    <tr>\n",
       "      <th>count</th>\n",
       "      <td>97.00000</td>\n",
       "      <td>97.0</td>\n",
       "      <td>97.000000</td>\n",
       "      <td>97.000000</td>\n",
       "    </tr>\n",
       "    <tr>\n",
       "      <th>mean</th>\n",
       "      <td>50.71134</td>\n",
       "      <td>1.0</td>\n",
       "      <td>55.463918</td>\n",
       "      <td>11.881062</td>\n",
       "    </tr>\n",
       "    <tr>\n",
       "      <th>std</th>\n",
       "      <td>28.58101</td>\n",
       "      <td>0.0</td>\n",
       "      <td>32.446450</td>\n",
       "      <td>8.663891</td>\n",
       "    </tr>\n",
       "    <tr>\n",
       "      <th>min</th>\n",
       "      <td>1.00000</td>\n",
       "      <td>1.0</td>\n",
       "      <td>1.000000</td>\n",
       "      <td>1.691000</td>\n",
       "    </tr>\n",
       "    <tr>\n",
       "      <th>25%</th>\n",
       "      <td>27.00000</td>\n",
       "      <td>1.0</td>\n",
       "      <td>28.000000</td>\n",
       "      <td>5.424000</td>\n",
       "    </tr>\n",
       "    <tr>\n",
       "      <th>50%</th>\n",
       "      <td>51.00000</td>\n",
       "      <td>1.0</td>\n",
       "      <td>54.000000</td>\n",
       "      <td>9.108000</td>\n",
       "    </tr>\n",
       "    <tr>\n",
       "      <th>75%</th>\n",
       "      <td>75.00000</td>\n",
       "      <td>1.0</td>\n",
       "      <td>83.000000</td>\n",
       "      <td>17.069000</td>\n",
       "    </tr>\n",
       "    <tr>\n",
       "      <th>max</th>\n",
       "      <td>99.00000</td>\n",
       "      <td>1.0</td>\n",
       "      <td>112.000000</td>\n",
       "      <td>53.041000</td>\n",
       "    </tr>\n",
       "  </tbody>\n",
       "</table>\n",
       "</div>"
      ],
      "text/plain": [
       "       annotation_id  annotator          id  lead_time\n",
       "count       97.00000       97.0   97.000000  97.000000\n",
       "mean        50.71134        1.0   55.463918  11.881062\n",
       "std         28.58101        0.0   32.446450   8.663891\n",
       "min          1.00000        1.0    1.000000   1.691000\n",
       "25%         27.00000        1.0   28.000000   5.424000\n",
       "50%         51.00000        1.0   54.000000   9.108000\n",
       "75%         75.00000        1.0   83.000000  17.069000\n",
       "max         99.00000        1.0  112.000000  53.041000"
      ]
     },
     "execution_count": 11,
     "metadata": {},
     "output_type": "execute_result"
    }
   ],
   "source": [
    "has_annotations = df[~df['label'].isnull()]\n",
    "has_annotations.describe()"
   ]
  },
  {
   "cell_type": "code",
   "execution_count": 12,
   "metadata": {},
   "outputs": [
    {
     "data": {
      "text/html": [
       "<div>\n",
       "<style scoped>\n",
       "    .dataframe tbody tr th:only-of-type {\n",
       "        vertical-align: middle;\n",
       "    }\n",
       "\n",
       "    .dataframe tbody tr th {\n",
       "        vertical-align: top;\n",
       "    }\n",
       "\n",
       "    .dataframe thead th {\n",
       "        text-align: right;\n",
       "    }\n",
       "</style>\n",
       "<table border=\"1\" class=\"dataframe\">\n",
       "  <thead>\n",
       "    <tr style=\"text-align: right;\">\n",
       "      <th></th>\n",
       "      <th>annotation_id</th>\n",
       "      <th>annotator</th>\n",
       "      <th>created_at</th>\n",
       "      <th>id</th>\n",
       "      <th>label</th>\n",
       "      <th>lead_time</th>\n",
       "      <th>text</th>\n",
       "      <th>updated_at</th>\n",
       "    </tr>\n",
       "  </thead>\n",
       "  <tbody>\n",
       "    <tr>\n",
       "      <th>0</th>\n",
       "      <td>1</td>\n",
       "      <td>1</td>\n",
       "      <td>2024-05-09T14:49:30.937505Z</td>\n",
       "      <td>1</td>\n",
       "      <td>[{\"start\":33,\"end\":39,\"text\":\"Москве\",\"labels\"...</td>\n",
       "      <td>11.596</td>\n",
       "      <td>Трубу с горячей водой прорвало в Москве около ...</td>\n",
       "      <td>2024-05-09T14:49:30.937583Z</td>\n",
       "    </tr>\n",
       "    <tr>\n",
       "      <th>2</th>\n",
       "      <td>2</td>\n",
       "      <td>1</td>\n",
       "      <td>2024-05-10T11:06:05.250606Z</td>\n",
       "      <td>3</td>\n",
       "      <td>[{\"start\":247,\"end\":255,\"text\":\"Украины.\",\"lab...</td>\n",
       "      <td>19.274</td>\n",
       "      <td>Политолог Георгий Бовт:Эдак можно второй соста...</td>\n",
       "      <td>2024-05-10T11:06:05.250630Z</td>\n",
       "    </tr>\n",
       "    <tr>\n",
       "      <th>3</th>\n",
       "      <td>3</td>\n",
       "      <td>1</td>\n",
       "      <td>2024-05-10T11:06:08.129832Z</td>\n",
       "      <td>4</td>\n",
       "      <td>[{\"start\":18,\"end\":20,\"text\":\"РФ\",\"labels\":[\"L...</td>\n",
       "      <td>14.092</td>\n",
       "      <td>❗️В правительстве РФ опасаются \"неуправляемого...</td>\n",
       "      <td>2024-05-10T11:06:08.129855Z</td>\n",
       "    </tr>\n",
       "    <tr>\n",
       "      <th>4</th>\n",
       "      <td>4</td>\n",
       "      <td>1</td>\n",
       "      <td>2024-05-10T11:06:22.996942Z</td>\n",
       "      <td>5</td>\n",
       "      <td>[{\"start\":669,\"end\":680,\"text\":\"Ставрополья\",\"...</td>\n",
       "      <td>12.511</td>\n",
       "      <td>За каждой задачей, приказом или указом должно ...</td>\n",
       "      <td>2024-05-10T11:06:22.996966Z</td>\n",
       "    </tr>\n",
       "    <tr>\n",
       "      <th>5</th>\n",
       "      <td>5</td>\n",
       "      <td>1</td>\n",
       "      <td>2024-05-10T11:07:03.589454Z</td>\n",
       "      <td>6</td>\n",
       "      <td>[{\"start\":91,\"end\":97,\"text\":\"России\",\"labels\"...</td>\n",
       "      <td>38.681</td>\n",
       "      <td>BRIEFLY. Акценты.В материале The Washington Ti...</td>\n",
       "      <td>2024-05-10T11:07:03.589475Z</td>\n",
       "    </tr>\n",
       "    <tr>\n",
       "      <th>...</th>\n",
       "      <td>...</td>\n",
       "      <td>...</td>\n",
       "      <td>...</td>\n",
       "      <td>...</td>\n",
       "      <td>...</td>\n",
       "      <td>...</td>\n",
       "      <td>...</td>\n",
       "      <td>...</td>\n",
       "    </tr>\n",
       "    <tr>\n",
       "      <th>94</th>\n",
       "      <td>95</td>\n",
       "      <td>1</td>\n",
       "      <td>2024-05-21T15:36:24.866268Z</td>\n",
       "      <td>108</td>\n",
       "      <td>[{\"start\":190,\"end\":197,\"text\":\"России,\",\"labe...</td>\n",
       "      <td>18.588</td>\n",
       "      <td>Японская компания Japan Tobacco (международные...</td>\n",
       "      <td>2024-05-21T15:36:24.866289Z</td>\n",
       "    </tr>\n",
       "    <tr>\n",
       "      <th>95</th>\n",
       "      <td>96</td>\n",
       "      <td>1</td>\n",
       "      <td>2024-05-21T15:36:32.407195Z</td>\n",
       "      <td>109</td>\n",
       "      <td>[{\"start\":7,\"end\":13,\"text\":\"Алматы\",\"labels\":...</td>\n",
       "      <td>6.552</td>\n",
       "      <td>Власти Алматы второй год подряд не разрешили п...</td>\n",
       "      <td>2024-05-21T15:36:32.407219Z</td>\n",
       "    </tr>\n",
       "    <tr>\n",
       "      <th>96</th>\n",
       "      <td>97</td>\n",
       "      <td>1</td>\n",
       "      <td>2024-05-21T15:36:48.514292Z</td>\n",
       "      <td>110</td>\n",
       "      <td>[{\"start\":17,\"end\":24,\"text\":\"Австрии\",\"labels...</td>\n",
       "      <td>15.200</td>\n",
       "      <td>Reuters:  Власти Австрии призвали Raiffeisen B...</td>\n",
       "      <td>2024-05-21T15:36:48.514314Z</td>\n",
       "    </tr>\n",
       "    <tr>\n",
       "      <th>97</th>\n",
       "      <td>98</td>\n",
       "      <td>1</td>\n",
       "      <td>2024-05-21T15:36:55.411849Z</td>\n",
       "      <td>111</td>\n",
       "      <td>[{\"start\":7,\"end\":15,\"text\":\"Удмуртии\",\"labels...</td>\n",
       "      <td>5.424</td>\n",
       "      <td>Власти Удмуртии решили отменить Парад Победы и...</td>\n",
       "      <td>2024-05-21T15:36:55.411872Z</td>\n",
       "    </tr>\n",
       "    <tr>\n",
       "      <th>98</th>\n",
       "      <td>99</td>\n",
       "      <td>1</td>\n",
       "      <td>2024-05-21T15:37:07.351417Z</td>\n",
       "      <td>112</td>\n",
       "      <td>[{\"start\":29,\"end\":43,\"text\":\"Рязанскому НПЗ\",...</td>\n",
       "      <td>11.259</td>\n",
       "      <td>Ночной удар беспилотников по Рязанскому НПЗ бы...</td>\n",
       "      <td>2024-05-21T15:37:07.351440Z</td>\n",
       "    </tr>\n",
       "  </tbody>\n",
       "</table>\n",
       "<p>97 rows × 8 columns</p>\n",
       "</div>"
      ],
      "text/plain": [
       "    annotation_id  annotator                   created_at   id  \\\n",
       "0               1          1  2024-05-09T14:49:30.937505Z    1   \n",
       "2               2          1  2024-05-10T11:06:05.250606Z    3   \n",
       "3               3          1  2024-05-10T11:06:08.129832Z    4   \n",
       "4               4          1  2024-05-10T11:06:22.996942Z    5   \n",
       "5               5          1  2024-05-10T11:07:03.589454Z    6   \n",
       "..            ...        ...                          ...  ...   \n",
       "94             95          1  2024-05-21T15:36:24.866268Z  108   \n",
       "95             96          1  2024-05-21T15:36:32.407195Z  109   \n",
       "96             97          1  2024-05-21T15:36:48.514292Z  110   \n",
       "97             98          1  2024-05-21T15:36:55.411849Z  111   \n",
       "98             99          1  2024-05-21T15:37:07.351417Z  112   \n",
       "\n",
       "                                                label  lead_time  \\\n",
       "0   [{\"start\":33,\"end\":39,\"text\":\"Москве\",\"labels\"...     11.596   \n",
       "2   [{\"start\":247,\"end\":255,\"text\":\"Украины.\",\"lab...     19.274   \n",
       "3   [{\"start\":18,\"end\":20,\"text\":\"РФ\",\"labels\":[\"L...     14.092   \n",
       "4   [{\"start\":669,\"end\":680,\"text\":\"Ставрополья\",\"...     12.511   \n",
       "5   [{\"start\":91,\"end\":97,\"text\":\"России\",\"labels\"...     38.681   \n",
       "..                                                ...        ...   \n",
       "94  [{\"start\":190,\"end\":197,\"text\":\"России,\",\"labe...     18.588   \n",
       "95  [{\"start\":7,\"end\":13,\"text\":\"Алматы\",\"labels\":...      6.552   \n",
       "96  [{\"start\":17,\"end\":24,\"text\":\"Австрии\",\"labels...     15.200   \n",
       "97  [{\"start\":7,\"end\":15,\"text\":\"Удмуртии\",\"labels...      5.424   \n",
       "98  [{\"start\":29,\"end\":43,\"text\":\"Рязанскому НПЗ\",...     11.259   \n",
       "\n",
       "                                                 text  \\\n",
       "0   Трубу с горячей водой прорвало в Москве около ...   \n",
       "2   Политолог Георгий Бовт:Эдак можно второй соста...   \n",
       "3   ❗️В правительстве РФ опасаются \"неуправляемого...   \n",
       "4   За каждой задачей, приказом или указом должно ...   \n",
       "5   BRIEFLY. Акценты.В материале The Washington Ti...   \n",
       "..                                                ...   \n",
       "94  Японская компания Japan Tobacco (международные...   \n",
       "95  Власти Алматы второй год подряд не разрешили п...   \n",
       "96  Reuters:  Власти Австрии призвали Raiffeisen B...   \n",
       "97  Власти Удмуртии решили отменить Парад Победы и...   \n",
       "98  Ночной удар беспилотников по Рязанскому НПЗ бы...   \n",
       "\n",
       "                     updated_at  \n",
       "0   2024-05-09T14:49:30.937583Z  \n",
       "2   2024-05-10T11:06:05.250630Z  \n",
       "3   2024-05-10T11:06:08.129855Z  \n",
       "4   2024-05-10T11:06:22.996966Z  \n",
       "5   2024-05-10T11:07:03.589475Z  \n",
       "..                          ...  \n",
       "94  2024-05-21T15:36:24.866289Z  \n",
       "95  2024-05-21T15:36:32.407219Z  \n",
       "96  2024-05-21T15:36:48.514314Z  \n",
       "97  2024-05-21T15:36:55.411872Z  \n",
       "98  2024-05-21T15:37:07.351440Z  \n",
       "\n",
       "[97 rows x 8 columns]"
      ]
     },
     "execution_count": 12,
     "metadata": {},
     "output_type": "execute_result"
    }
   ],
   "source": [
    "has_annotations"
   ]
  },
  {
   "cell_type": "code",
   "execution_count": 17,
   "metadata": {},
   "outputs": [
    {
     "data": {
      "text/plain": [
       "count     97.000000\n",
       "mean      56.329897\n",
       "std       50.963165\n",
       "min        4.000000\n",
       "25%       21.000000\n",
       "50%       33.000000\n",
       "75%       86.000000\n",
       "max      251.000000\n",
       "Name: text, dtype: float64"
      ]
     },
     "execution_count": 17,
     "metadata": {},
     "output_type": "execute_result"
    }
   ],
   "source": [
    "has_annotations['text'].apply(lambda x: x.split(' ')).apply(len).describe()"
   ]
  },
  {
   "cell_type": "code",
   "execution_count": 21,
   "metadata": {},
   "outputs": [
    {
     "name": "stderr",
     "output_type": "stream",
     "text": [
      "C:\\Users\\Nick\\AppData\\Local\\Temp\\ipykernel_17512\\1017649932.py:3: SettingWithCopyWarning: \n",
      "A value is trying to be set on a copy of a slice from a DataFrame.\n",
      "Try using .loc[row_indexer,col_indexer] = value instead\n",
      "\n",
      "See the caveats in the documentation: https://pandas.pydata.org/pandas-docs/stable/user_guide/indexing.html#returning-a-view-versus-a-copy\n",
      "  has_annotations['labels'] = has_annotations['label'].apply(json.loads)\n"
     ]
    }
   ],
   "source": [
    "import json\n",
    "\n",
    "has_annotations['labels'] = has_annotations['label'].apply(json.loads)"
   ]
  },
  {
   "cell_type": "code",
   "execution_count": 23,
   "metadata": {},
   "outputs": [
    {
     "data": {
      "text/plain": [
       "[{'start': 33, 'end': 39, 'text': 'Москве', 'labels': ['LOC_CITY']},\n",
       " {'start': 53,\n",
       "  'end': 76,\n",
       "  'text': 'Ломоносовский проспект»',\n",
       "  'labels': ['LOC']}]"
      ]
     },
     "execution_count": 23,
     "metadata": {},
     "output_type": "execute_result"
    }
   ],
   "source": [
    "has_annotations['labels'].iloc[0]"
   ]
  },
  {
   "cell_type": "code",
   "execution_count": 25,
   "metadata": {},
   "outputs": [
    {
     "data": {
      "text/plain": [
       "0     [{'start': 33, 'end': 39, 'text': 'Москве', 'l...\n",
       "2     [{'start': 247, 'end': 255, 'text': 'Украины.'...\n",
       "3     [{'start': 18, 'end': 20, 'text': 'РФ', 'label...\n",
       "4     [{'start': 669, 'end': 680, 'text': 'Ставропол...\n",
       "5     [{'start': 91, 'end': 97, 'text': 'России', 'l...\n",
       "                            ...                        \n",
       "94    [{'start': 190, 'end': 197, 'text': 'России,',...\n",
       "95    [{'start': 7, 'end': 13, 'text': 'Алматы', 'la...\n",
       "96    [{'start': 17, 'end': 24, 'text': 'Австрии', '...\n",
       "97    [{'start': 7, 'end': 15, 'text': 'Удмуртии', '...\n",
       "98    [{'start': 29, 'end': 43, 'text': 'Рязанскому ...\n",
       "Name: labels, Length: 97, dtype: object"
      ]
     },
     "execution_count": 25,
     "metadata": {},
     "output_type": "execute_result"
    }
   ],
   "source": [
    "has_annotations['tags'] =  has_annotations['labels'].apply(\n",
    "    lambda x: list(map(lambda y: y['labels'], x)))\n",
    "has_annotations['tags']"
   ]
  }
 ],
 "metadata": {
  "kernelspec": {
   "display_name": ".venv",
   "language": "python",
   "name": "python3"
  },
  "language_info": {
   "codemirror_mode": {
    "name": "ipython",
    "version": 3
   },
   "file_extension": ".py",
   "mimetype": "text/x-python",
   "name": "python",
   "nbconvert_exporter": "python",
   "pygments_lexer": "ipython3",
   "version": "3.10.11"
  }
 },
 "nbformat": 4,
 "nbformat_minor": 2
}
