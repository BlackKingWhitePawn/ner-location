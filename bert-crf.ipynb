{
 "cells": [
  {
   "cell_type": "code",
   "execution_count": 19,
   "metadata": {},
   "outputs": [],
   "source": [
    "import os\n",
    "# im naming it as pylib so that we won't get confused between os.path and sys.path\n",
    "from sys import path as pylib\n",
    "\n",
    "pylib += [os.path.abspath(r'bertCrf')]"
   ]
  },
  {
   "cell_type": "code",
   "execution_count": 30,
   "metadata": {},
   "outputs": [
    {
     "data": {
      "text/plain": [
       "'cpu'"
      ]
     },
     "execution_count": 30,
     "metadata": {},
     "output_type": "execute_result"
    }
   ],
   "source": [
    "from bertCrf.re_utils.train import train_ner\n",
    "\n",
    "import torch.cuda\n",
    "device = 'cuda' if torch.cuda.is_available() else 'cpu'\n",
    "device"
   ]
  },
  {
   "cell_type": "code",
   "execution_count": 25,
   "metadata": {},
   "outputs": [],
   "source": [
    "num_labels = 17\n",
    "train_tokenized_texts_path = \"bertCrf/resources/data/train/labeled_texts.jsonl\"\n",
    "test_tokenized_texts_path = \"bertCrf/resources/data/test/labeled_texts.jsonl\"\n",
    "dropout = 0.2\n",
    "batch_size = 16\n",
    "epochs = 15\n",
    "log_every = 20\n",
    "lr_new_layers = 1e-3\n",
    "lr_bert = 1e-5\n",
    "device = \"cuda\" if torch.cuda.is_available() else \"cpu\""
   ]
  },
  {
   "cell_type": "code",
   "execution_count": null,
   "metadata": {},
   "outputs": [],
   "source": [
    "# sberbank-ai/ruBert-base w/o crf\n",
    "\n",
    "train_ner(\n",
    "    num_labels=num_labels,\n",
    "    bert_name=\"sberbank-ai/ruBert-base\",\n",
    "    train_tokenized_texts_path=train_tokenized_texts_path,\n",
    "    test_tokenized_texts_path=test_tokenized_texts_path,\n",
    "    dropout=dropout,\n",
    "    batch_size=batch_size,\n",
    "    epochs=epochs,\n",
    "    log_every=log_every,\n",
    "    lr_new_layers=lr_new_layers,\n",
    "    lr_bert=lr_bert,\n",
    "    use_crf=False,\n",
    "    save_to=None,\n",
    "    device=device\n",
    ")"
   ]
  }
 ],
 "metadata": {
  "kernelspec": {
   "display_name": ".venv",
   "language": "python",
   "name": "python3"
  },
  "language_info": {
   "codemirror_mode": {
    "name": "ipython",
    "version": 3
   },
   "file_extension": ".py",
   "mimetype": "text/x-python",
   "name": "python",
   "nbconvert_exporter": "python",
   "pygments_lexer": "ipython3",
   "version": "3.10.11"
  }
 },
 "nbformat": 4,
 "nbformat_minor": 2
}
